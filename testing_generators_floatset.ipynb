{
 "cells": [
  {
   "cell_type": "code",
   "execution_count": 1,
   "metadata": {
    "collapsed": true
   },
   "outputs": [
    {
     "name": "stderr",
     "output_type": "stream",
     "text": [
      "/home/as4479/.local/lib/python2.7/site-packages/xarray-0.9.5-py2.7.egg/xarray/core/formatting.py:16: FutureWarning: The pandas.tslib module is deprecated and will be removed in a future version.\n",
      "  from pandas.tslib import OutOfBoundsDatetime\n"
     ]
    }
   ],
   "source": [
    "from floater import generators\n",
    "from matplotlib import pyplot as plt\n",
    "%matplotlib inline\n",
    "import numpy as np\n",
    "\n",
    "from xmitgcm import open_mdsdataset\n",
    "import xarray as xr"
   ]
  },
  {
   "cell_type": "code",
   "execution_count": 3,
   "metadata": {},
   "outputs": [],
   "source": [
    "import pandas as pd"
   ]
  },
  {
   "cell_type": "code",
   "execution_count": 2,
   "metadata": {
    "collapsed": true
   },
   "outputs": [],
   "source": [
    "outdir = '/data/scratch/as4479/agulhas_llc_4320_data/'"
   ]
  },
  {
   "cell_type": "markdown",
   "metadata": {},
   "source": [
    "# New Floatset with 1/100, 1/200 and and 1/20 deg particle grid spacing#"
   ]
  },
  {
   "cell_type": "code",
   "execution_count": 8,
   "metadata": {},
   "outputs": [],
   "source": [
    "fs = generators.FloatSet(xlim=(-15.5, 29.0), ylim=(-56.0, -27.0), dx=0.01, dy =0.01)\n",
    "fs.to_mitgcm_format('/swot/SUM02/as4479/flt_ini_pos_1_100_s3.bin',iup=-1, mesh='rect', read_binary_prec=32)\n",
    "fs.to_mitgcm_format('/swot/SUM02/as4479/flt_ini_pos_1_100_s2.bin', mesh='rect', read_binary_prec=32)\n",
    "fs.to_pickle('/swot/SUM02/as4479/floatset_1_100.pkl')\n",
    "\n"
   ]
  },
  {
   "cell_type": "code",
   "execution_count": 9,
   "metadata": {},
   "outputs": [],
   "source": [
    "fs = generators.FloatSet(xlim=(-15.5, 29.0), ylim=(-56.0, -27.0), dx=0.005, dy =0.005)\n",
    "fs.to_mitgcm_format('/swot/SUM02/as4479/flt_ini_pos_1_200_s3.bin',iup=-1, mesh='rect', read_binary_prec=32)\n",
    "fs.to_mitgcm_format('/swot/SUM02/as4479/flt_ini_pos_1_200_s2.bin', mesh='rect', read_binary_prec=32)\n",
    "fs.to_pickle('/swot/SUM02/as4479/floatset_1_200.pkl')\n",
    "\n"
   ]
  },
  {
   "cell_type": "code",
   "execution_count": 12,
   "metadata": {},
   "outputs": [],
   "source": [
    "fs = generators.FloatSet(xlim=(-15.5, 29.0), ylim=(-56.0, -27.0), dx=0.05, dy =0.05)\n",
    "fs.to_mitgcm_format('/swot/SUM02/as4479/flt_ini_pos_1_20_s3.bin',iup=-1, mesh='rect', read_binary_prec=32)\n",
    "fs.to_mitgcm_format('/swot/SUM02/as4479/flt_ini_pos_1_20_s2.bin', mesh='rect', read_binary_prec=32)\n",
    "fs.to_pickle('/swot/SUM02/as4479/floatset_1_20.pkl')\n",
    "\n"
   ]
  },
  {
   "cell_type": "code",
   "execution_count": null,
   "metadata": {},
   "outputs": [],
   "source": []
  },
  {
   "cell_type": "code",
   "execution_count": 5,
   "metadata": {},
   "outputs": [
    {
     "data": {
      "text/plain": [
       "<xarray.Dataset>\n",
       "Dimensions:  (i: 2160, i_g: 2160, j: 2160, j_g: 2160, k: 90, k_l: 90, k_p1: 91, k_u: 90)\n",
       "Coordinates:\n",
       "  * k        (k) int64 0 1 2 3 4 5 6 7 8 9 10 11 12 13 14 15 16 17 18 19 20 ...\n",
       "  * j_g      (j_g) float64 0.0 1.0 2.0 3.0 4.0 5.0 6.0 7.0 8.0 9.0 10.0 11.0 ...\n",
       "  * k_u      (k_u) int64 0 1 2 3 4 5 6 7 8 9 10 11 12 13 14 15 16 17 18 19 ...\n",
       "  * k_p1     (k_p1) int64 0 1 2 3 4 5 6 7 8 9 10 11 12 13 14 15 16 17 18 19 ...\n",
       "  * i        (i) int64 1080 1081 1082 1083 1084 1085 1086 1087 1088 1089 ...\n",
       "  * j        (j) float64 0.0 1.0 2.0 3.0 4.0 5.0 6.0 7.0 8.0 9.0 10.0 11.0 ...\n",
       "  * k_l      (k_l) int64 0 1 2 3 4 5 6 7 8 9 10 11 12 13 14 15 16 17 18 19 ...\n",
       "  * i_g      (i_g) int64 1080 1081 1082 1083 1084 1085 1086 1087 1088 1089 ...\n",
       "    face     int64 1\n",
       "    YC       (j, i) float32 -57.001 -57.001 -57.001 -57.001 -57.001 -57.001 ...\n",
       "    YG       (j_g, i_g) float32 -57.0066 -57.0066 -57.0066 -57.0066 -57.0066 ...\n",
       "    XC       (j, i) float32 -15.4896 -15.4688 -15.4479 -15.4271 -15.4062 ...\n",
       "    XG       (j_g, i_g) float32 -15.5 -15.4792 -15.4583 -15.4375 -15.4167 ...\n",
       "    Zp1      (k_p1) float32 0.0 -1.0 -2.14 -3.44 -4.93 -6.63 -8.56 -10.76 ...\n",
       "    Z        (k) float32 -0.5 -1.57 -2.79 -4.185 -5.78 -7.595 -9.66 -12.01 ...\n",
       "    Zl       (k_l) float32 0.0 -1.0 -2.14 -3.44 -4.93 -6.63 -8.56 -10.76 ...\n",
       "    Zu       (k_u) float32 -1.0 -2.14 -3.44 -4.93 -6.63 -8.56 -10.76 -13.26 ...\n",
       "    rA       (j, i) float32 1.5528e+06 1.5528e+06 1.5528e+06 1.5528e+06 ...\n",
       "    rAw      (j, i_g) float32 1.5528e+06 1.5528e+06 1.5528e+06 1.5528e+06 ...\n",
       "    rAs      (j_g, i) float32 9.96921e+36 9.96921e+36 9.96921e+36 ...\n",
       "    rAz      (j_g, i_g) float32 1.55245e+06 1.55245e+06 1.55245e+06 ...\n",
       "    dxG      (j_g, i) float32 1261.27 1261.27 1261.27 1261.27 1261.27 ...\n",
       "    dyG      (j, i_g) float32 1230.96 1230.96 1230.96 1230.96 1230.96 ...\n",
       "    dxC      (j, i_g) float32 1261.46 1261.46 1261.46 1261.46 1261.46 ...\n",
       "    Depth    (j, i) float32 4578.67 4611.09 4647.6 4674.88 4766.75 4782.64 ...\n",
       "    dyC      (j_g, i) float32 1230.86 1230.86 1230.86 1230.86 1230.86 ...\n",
       "    PHrefF   (k_p1) float32 0.0 9.81 20.9934 33.7464 48.3633 65.0403 83.9736 ...\n",
       "    drF      (k) float32 1.0 1.14 1.3 1.49 1.7 1.93 2.2 2.5 2.84 3.21 3.63 ...\n",
       "    PHrefC   (k) float32 4.905 15.4017 27.3699 41.0549 56.7018 74.507 ...\n",
       "    drC      (k_p1) float32 0.5 1.07 1.22 1.395 1.595 1.815 2.065 2.35 2.67 ...\n",
       "    hFacW    (k, j, i_g) float32 1.0 1.0 1.0 1.0 1.0 1.0 1.0 1.0 1.0 1.0 1.0 ...\n",
       "    hFacS    (k, j_g, i) float32 1.0 1.0 1.0 1.0 1.0 1.0 1.0 1.0 1.0 1.0 1.0 ...\n",
       "    hFacC    (k, j, i) float32 1.0 1.0 1.0 1.0 1.0 1.0 1.0 1.0 1.0 1.0 1.0 ...\n",
       "Data variables:\n",
       "    *empty*\n",
       "Attributes:\n",
       "    _NCProperties:  version=1|netcdflibversion=4.4.1|hdf5libversion=1.8.17\n",
       "    Conventions:    CF-1.6\n",
       "    title:          netCDF wrapper of MITgcm MDS binary data\n",
       "    source:         MITgcm\n",
       "    history:        Created by calling `open_mdsdataset(prefix=None, ignore_u..."
      ]
     },
     "execution_count": 5,
     "metadata": {},
     "output_type": "execute_result"
    }
   ],
   "source": [
    "ds = xr.open_dataset('/data/scratch/as4479/llc_4320_agulhas_grid.nc')\n",
    "ds\n"
   ]
  },
  {
   "cell_type": "code",
   "execution_count": 4,
   "metadata": {},
   "outputs": [
    {
     "data": {
      "text/plain": [
       "<matplotlib.collections.QuadMesh at 0x7efdd80f1dd0>"
      ]
     },
     "execution_count": 4,
     "metadata": {},
     "output_type": "execute_result"
    },
    {
     "data": {
      "image/png": "[encoded data removed]",
      "text/plain": [
       "<matplotlib.figure.Figure at 0x7efddec4aad0>"
      ]
     },
     "metadata": {},
     "output_type": "display_data"
    }
   ],
   "source": [
    "fig = plt.figure(figsize=(10,7))\n",
    "ds.hFacC[0].plot()"
   ]
  },
  {
   "cell_type": "code",
   "execution_count": null,
   "metadata": {
    "collapsed": true
   },
   "outputs": [],
   "source": []
  },
  {
   "cell_type": "code",
   "execution_count": 6,
   "metadata": {},
   "outputs": [
    {
     "data": {
      "image/png": "[encoded data removed]",
      "text/plain": [
       "<matplotlib.figure.Figure at 0x7fd6f31d2e90>"
      ]
     },
     "metadata": {},
     "output_type": "display_data"
    }
   ],
   "source": [
    "plt.figure(figsize=(12,10))\n",
    "\n",
    "ds.Z.plot(marker='o',linestyle='-')\n",
    "plt.grid()"
   ]
  },
  {
   "cell_type": "code",
   "execution_count": null,
   "metadata": {},
   "outputs": [],
   "source": []
  },
  {
   "cell_type": "code",
   "execution_count": null,
   "metadata": {},
   "outputs": [],
   "source": []
  },
  {
   "cell_type": "code",
   "execution_count": null,
   "metadata": {},
   "outputs": [],
   "source": []
  },
  {
   "cell_type": "code",
   "execution_count": null,
   "metadata": {
    "collapsed": true
   },
   "outputs": [],
   "source": []
  },
  {
   "cell_type": "code",
   "execution_count": 5,
   "metadata": {
    "collapsed": true
   },
   "outputs": [],
   "source": [
    "fs = generators.FloatSet(xlim=(-15.5, 29.0), ylim=(-56.0, -27.0), dx=0.02, dy =0.02)\n",
    "fs.to_mitgcm_format('/swot/SUM02/as4479/flt_ini_pos_rect_s3.bin',iup=-1, mesh='rect', read_binary_prec=32)\n",
    "fs.to_mitgcm_format('/swot/SUM02/as4479/flt_ini_pos_rect_s2.bin', mesh='rect', read_binary_prec=32)"
   ]
  },
  {
   "cell_type": "code",
   "execution_count": 7,
   "metadata": {
    "collapsed": true
   },
   "outputs": [],
   "source": [
    "fs.to_pickle('/swot/SUM02/as4479/floatset.pkl')"
   ]
  },
  {
   "cell_type": "code",
   "execution_count": null,
   "metadata": {
    "collapsed": true
   },
   "outputs": [],
   "source": []
  },
  {
   "cell_type": "code",
   "execution_count": null,
   "metadata": {
    "collapsed": true
   },
   "outputs": [],
   "source": []
  },
  {
   "cell_type": "code",
   "execution_count": null,
   "metadata": {
    "collapsed": true
   },
   "outputs": [],
   "source": []
  },
  {
   "cell_type": "code",
   "execution_count": 57,
   "metadata": {},
   "outputs": [
    {
     "data": {
      "text/plain": [
       "(-55.990002, 0.0)"
      ]
     },
     "execution_count": 57,
     "metadata": {},
     "output_type": "execute_result"
    },
    {
     "data": {
      "image/png": "[encoded data removed]",
      "text/plain": [
       "<matplotlib.figure.Figure at 0x7f115210bcd0>"
      ]
     },
     "metadata": {},
     "output_type": "display_data"
    }
   ],
   "source": [
    "floats = np.fromfile(outdir+'flt_ini_pos_rect_s3.bin', dtype='>f4')\n",
    "total_num = len(floats)\n",
    "float_num = total_num//9\n",
    "\n",
    "floats.shape = (float_num, 9)\n",
    "\n",
    "x = floats[:, 2]\n",
    "y = floats[:, 3]\n",
    "plt.scatter(x[::100], y[::100], edgecolor='none', s=1)\n",
    "plt.xlim([min(x),max(x)])\n",
    "plt.ylim([min(y),max(y)])"
   ]
  },
  {
   "cell_type": "code",
   "execution_count": null,
   "metadata": {},
   "outputs": [],
   "source": []
  },
  {
   "cell_type": "code",
   "execution_count": null,
   "metadata": {},
   "outputs": [],
   "source": []
  },
  {
   "cell_type": "code",
   "execution_count": 46,
   "metadata": {},
   "outputs": [
    {
     "data": {
      "text/plain": [
       "(-55.990002, 0.0)"
      ]
     },
     "execution_count": 46,
     "metadata": {},
     "output_type": "execute_result"
    }
   ],
   "source": [
    "floats = np.fromfile(outdir+'flt_ini_pos_rect_s3.bin', dtype='>f4')\n",
    "total_num = len(floats)\n",
    "float_num = total_num//9\n",
    "\n",
    "floats.shape = (float_num, 9)\n",
    "\n",
    "x = floats[:, 2]\n",
    "y = floats[:, 3]\n",
    "min(y),max(y)"
   ]
  },
  {
   "cell_type": "code",
   "execution_count": 82,
   "metadata": {
    "collapsed": true
   },
   "outputs": [],
   "source": [
    "lon_1 = ds.XC.values[0]\n",
    "lat_1 = ds.YC.values[:,0]\n",
    "\n",
    "lon = lon_1[::5]\n",
    "lat = lat_1[::5]\n",
    "\n",
    "\n",
    "land_mask_1 = ds.hFacC[0].values==1\n",
    "land_mask = land_mask_1[::5,::5]\n",
    "\n",
    "\n",
    "model_grid = {'lon': lon, 'lat': lat, 'land_mask': land_mask}"
   ]
  },
  {
   "cell_type": "code",
   "execution_count": 83,
   "metadata": {},
   "outputs": [
    {
     "data": {
      "text/plain": [
       "(2250, 1450)"
      ]
     },
     "execution_count": 83,
     "metadata": {},
     "output_type": "execute_result"
    }
   ],
   "source": [
    "fs = generators.FloatSet(xlim=(-16, 29), ylim=(-56, -27), dx=0.02, dy =0.02, model_grid=model_grid)\n",
    "fs.Nx, fs.Ny"
   ]
  },
  {
   "cell_type": "code",
   "execution_count": 65,
   "metadata": {
    "collapsed": true
   },
   "outputs": [],
   "source": [
    "\n",
    "fs.to_mitgcm_format('/swot/SUM02/as4479/flt_ini_pos_s2_mask_1.bin', mesh='rect', read_binary_prec=32)"
   ]
  },
  {
   "cell_type": "code",
   "execution_count": 68,
   "metadata": {},
   "outputs": [
    {
     "data": {
      "image/png": "[encoded data removed]",
      "text/plain": [
       "<matplotlib.figure.Figure at 0x7f114f0a8fd0>"
      ]
     },
     "metadata": {},
     "output_type": "display_data"
    }
   ],
   "source": [
    "plt.pcolormesh(model_grid['lon'], model_grid['lat'], model_grid['land_mask'], cmap='viridis')\n",
    "plt.xlim([model_grid['lon'].min(), model_grid['lon'].max()]);\n",
    "plt.ylim([model_grid['lat'].min(), model_grid['lat'].max()]);"
   ]
  },
  {
   "cell_type": "code",
   "execution_count": 78,
   "metadata": {},
   "outputs": [
    {
     "data": {
      "image/png": "[encoded data removed]",
      "text/plain": [
       "<matplotlib.figure.Figure at 0x7f1151d552d0>"
      ]
     },
     "metadata": {},
     "output_type": "display_data"
    }
   ],
   "source": [
    "lon = lon_1[::1]\n",
    "lat = lat_1[::1]\n",
    "\n",
    "\n",
    "land_mask_1 = ds.hFacC[0].values==1\n",
    "land_mask = land_mask_1[::1,::1]\n",
    "\n",
    "\n",
    "model_grid = {'lon': lon, 'lat': lat, 'land_mask': land_mask}\n",
    "plt.figure(figsize=(10,7))\n",
    "plt.pcolormesh(model_grid['lon'], model_grid['lat'], model_grid['land_mask'], cmap='viridis')\n",
    "plt.xlim([-14, -9]);\n",
    "plt.ylim([-41, -36.5]);"
   ]
  },
  {
   "cell_type": "code",
   "execution_count": null,
   "metadata": {},
   "outputs": [],
   "source": []
  },
  {
   "cell_type": "code",
   "execution_count": null,
   "metadata": {
    "collapsed": true
   },
   "outputs": [],
   "source": []
  },
  {
   "cell_type": "code",
   "execution_count": null,
   "metadata": {},
   "outputs": [],
   "source": []
  },
  {
   "cell_type": "code",
   "execution_count": null,
   "metadata": {},
   "outputs": [],
   "source": []
  },
  {
   "cell_type": "code",
   "execution_count": null,
   "metadata": {},
   "outputs": [],
   "source": []
  },
  {
   "cell_type": "code",
   "execution_count": null,
   "metadata": {
    "collapsed": true
   },
   "outputs": [],
   "source": []
  },
  {
   "cell_type": "code",
   "execution_count": null,
   "metadata": {},
   "outputs": [],
   "source": []
  },
  {
   "cell_type": "code",
   "execution_count": null,
   "metadata": {},
   "outputs": [],
   "source": []
  },
  {
   "cell_type": "code",
   "execution_count": null,
   "metadata": {},
   "outputs": [],
   "source": []
  },
  {
   "cell_type": "code",
   "execution_count": null,
   "metadata": {},
   "outputs": [],
   "source": []
  },
  {
   "cell_type": "code",
   "execution_count": null,
   "metadata": {
    "collapsed": true
   },
   "outputs": [],
   "source": []
  },
  {
   "cell_type": "code",
   "execution_count": null,
   "metadata": {
    "collapsed": true
   },
   "outputs": [],
   "source": []
  },
  {
   "cell_type": "code",
   "execution_count": null,
   "metadata": {
    "collapsed": true
   },
   "outputs": [],
   "source": []
  },
  {
   "cell_type": "code",
   "execution_count": null,
   "metadata": {
    "collapsed": true
   },
   "outputs": [],
   "source": []
  },
  {
   "cell_type": "code",
   "execution_count": null,
   "metadata": {
    "collapsed": true
   },
   "outputs": [],
   "source": []
  },
  {
   "cell_type": "code",
   "execution_count": null,
   "metadata": {},
   "outputs": [],
   "source": []
  },
  {
   "cell_type": "code",
   "execution_count": null,
   "metadata": {},
   "outputs": [],
   "source": []
  },
  {
   "cell_type": "code",
   "execution_count": null,
   "metadata": {},
   "outputs": [],
   "source": []
  },
  {
   "cell_type": "code",
   "execution_count": null,
   "metadata": {},
   "outputs": [],
   "source": []
  },
  {
   "cell_type": "code",
   "execution_count": null,
   "metadata": {
    "collapsed": true
   },
   "outputs": [],
   "source": []
  },
  {
   "cell_type": "code",
   "execution_count": null,
   "metadata": {
    "collapsed": true
   },
   "outputs": [],
   "source": []
  },
  {
   "cell_type": "code",
   "execution_count": null,
   "metadata": {
    "collapsed": true
   },
   "outputs": [],
   "source": []
  },
  {
   "cell_type": "code",
   "execution_count": null,
   "metadata": {
    "collapsed": true
   },
   "outputs": [],
   "source": []
  },
  {
   "cell_type": "code",
   "execution_count": null,
   "metadata": {
    "collapsed": true
   },
   "outputs": [],
   "source": []
  },
  {
   "cell_type": "code",
   "execution_count": null,
   "metadata": {},
   "outputs": [],
   "source": []
  },
  {
   "cell_type": "code",
   "execution_count": null,
   "metadata": {},
   "outputs": [],
   "source": [
    "\n"
   ]
  },
  {
   "cell_type": "code",
   "execution_count": null,
   "metadata": {
    "collapsed": true
   },
   "outputs": [],
   "source": []
  },
  {
   "cell_type": "code",
   "execution_count": null,
   "metadata": {},
   "outputs": [],
   "source": []
  },
  {
   "cell_type": "code",
   "execution_count": null,
   "metadata": {},
   "outputs": [],
   "source": []
  },
  {
   "cell_type": "code",
   "execution_count": null,
   "metadata": {
    "collapsed": true
   },
   "outputs": [],
   "source": []
  },
  {
   "cell_type": "code",
   "execution_count": null,
   "metadata": {
    "collapsed": true
   },
   "outputs": [],
   "source": []
  },
  {
   "cell_type": "code",
   "execution_count": null,
   "metadata": {
    "collapsed": true
   },
   "outputs": [],
   "source": []
  },
  {
   "cell_type": "code",
   "execution_count": null,
   "metadata": {
    "collapsed": true
   },
   "outputs": [],
   "source": []
  },
  {
   "cell_type": "code",
   "execution_count": null,
   "metadata": {
    "collapsed": true
   },
   "outputs": [],
   "source": []
  },
  {
   "cell_type": "code",
   "execution_count": null,
   "metadata": {},
   "outputs": [],
   "source": []
  },
  {
   "cell_type": "code",
   "execution_count": null,
   "metadata": {
    "collapsed": true
   },
   "outputs": [],
   "source": []
  },
  {
   "cell_type": "code",
   "execution_count": null,
   "metadata": {},
   "outputs": [],
   "source": []
  },
  {
   "cell_type": "code",
   "execution_count": null,
   "metadata": {
    "collapsed": true
   },
   "outputs": [],
   "source": []
  },
  {
   "cell_type": "code",
   "execution_count": null,
   "metadata": {},
   "outputs": [],
   "source": []
  },
  {
   "cell_type": "code",
   "execution_count": null,
   "metadata": {
    "collapsed": true
   },
   "outputs": [],
   "source": []
  },
  {
   "cell_type": "code",
   "execution_count": null,
   "metadata": {
    "collapsed": true
   },
   "outputs": [],
   "source": []
  },
  {
   "cell_type": "code",
   "execution_count": null,
   "metadata": {
    "collapsed": true
   },
   "outputs": [],
   "source": []
  },
  {
   "cell_type": "code",
   "execution_count": null,
   "metadata": {
    "collapsed": true
   },
   "outputs": [],
   "source": []
  },
  {
   "cell_type": "code",
   "execution_count": null,
   "metadata": {},
   "outputs": [],
   "source": []
  },
  {
   "cell_type": "code",
   "execution_count": null,
   "metadata": {
    "collapsed": true
   },
   "outputs": [],
   "source": []
  }
 ],
 "metadata": {
  "anaconda-cloud": {},
  "kernelspec": {
   "display_name": "Python 2.7 (Anaconda)",
   "language": "python",
   "name": "python2"
  },
  "language_info": {
   "codemirror_mode": {
    "name": "ipython",
    "version": 2
   },
   "file_extension": ".py",
   "mimetype": "text/x-python",
   "name": "python",
   "nbconvert_exporter": "python",
   "pygments_lexer": "ipython2",
   "version": "2.7.14"
  }
 },
 "nbformat": 4,
 "nbformat_minor": 2
}
