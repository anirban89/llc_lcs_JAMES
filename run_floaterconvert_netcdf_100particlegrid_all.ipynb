{
 "cells": [
  {
   "cell_type": "code",
   "execution_count": 1,
   "metadata": {},
   "outputs": [],
   "source": [
    "import numpy as np\n",
    "import matplotlib.pyplot as plt\n",
    "%matplotlib inline\n",
    "\n",
    "import xmitgcm \n",
    "from IPython.display import display, clear_output\n",
    "import time\n",
    "\n",
    "import os\n",
    "import xarray as xr\n",
    "import floater\n",
    "\n",
    "import csv\n",
    "#import bcolz\n",
    "import pandas as pd\n",
    "from floater.generators import FloatSet\n",
    "\n",
    "from matplotlib.colors import LogNorm"
   ]
  },
  {
   "cell_type": "code",
   "execution_count": 2,
   "metadata": {},
   "outputs": [],
   "source": [
    "from floater import generators\n"
   ]
  },
  {
   "cell_type": "code",
   "execution_count": 3,
   "metadata": {},
   "outputs": [],
   "source": [
    "from floater import utils"
   ]
  },
  {
   "cell_type": "code",
   "execution_count": 4,
   "metadata": {},
   "outputs": [
    {
     "name": "stderr",
     "output_type": "stream",
     "text": [
      "100%|██████████| 133/133 [31:25<00:00, 14.18s/it]\n"
     ]
    }
   ],
   "source": [
    "utils.floats_to_netcdf(input_dir='/rigel/ocp/users/as4479/MITgcm/llc_agulhas/moreparticles_nonormalLAVD/100_2Dw',\n",
    "                       output_fname='float_trajectories', \n",
    "                       float_file_prefix='float_trajectories',\n",
    "                       output_dir='/rigel/ocp/users/as4479/float_traj/100_2Dw/',\n",
    "                       output_prefix='float_trajectories',\n",
    "                       pkl_path='/rigel/ocp/users/as4479/float_traj/picklepath_100/floatset.pkl')"
   ]
  },
  {
   "cell_type": "code",
   "execution_count": 5,
   "metadata": {},
   "outputs": [
    {
     "name": "stderr",
     "output_type": "stream",
     "text": [
      "100%|██████████| 133/133 [29:48<00:00, 13.45s/it]\n"
     ]
    }
   ],
   "source": [
    "utils.floats_to_netcdf(input_dir='/rigel/ocp/users/as4479/MITgcm/llc_agulhas/moreparticles_nonormalLAVD/100_3Dw',\n",
    "                       output_fname='float_trajectories', \n",
    "                       float_file_prefix='float_trajectories',\n",
    "                       output_dir='/rigel/ocp/users/as4479/float_traj/100_3Dw/',\n",
    "                       output_prefix='float_trajectories',\n",
    "                       pkl_path='/rigel/ocp/users/as4479/float_traj/picklepath_100/floatset.pkl')"
   ]
  },
  {
   "cell_type": "code",
   "execution_count": 6,
   "metadata": {},
   "outputs": [
    {
     "name": "stderr",
     "output_type": "stream",
     "text": [
      "100%|██████████| 142/142 [32:38<00:00, 13.79s/it]\n"
     ]
    }
   ],
   "source": [
    "utils.floats_to_netcdf(input_dir='/rigel/ocp/users/as4479/MITgcm/llc_agulhas/moreparticles_nonormalLAVD/100_2Dd',\n",
    "                       output_fname='float_trajectories', \n",
    "                       float_file_prefix='float_trajectories',\n",
    "                       output_dir='/rigel/ocp/users/as4479/float_traj/100_2Dd/',\n",
    "                       output_prefix='float_trajectories',\n",
    "                       pkl_path='/rigel/ocp/users/as4479/float_traj/picklepath_100/floatset.pkl')"
   ]
  },
  {
   "cell_type": "code",
   "execution_count": 7,
   "metadata": {},
   "outputs": [
    {
     "name": "stderr",
     "output_type": "stream",
     "text": [
      "100%|██████████| 143/143 [31:53<00:00, 13.38s/it]\n"
     ]
    }
   ],
   "source": [
    "utils.floats_to_netcdf(input_dir='/rigel/ocp/users/as4479/MITgcm/llc_agulhas/moreparticles_nonormalLAVD/100_3Dd',\n",
    "                       output_fname='float_trajectories', \n",
    "                       float_file_prefix='float_trajectories',\n",
    "                       output_dir='/rigel/ocp/users/as4479/float_traj/100_3Dd/',\n",
    "                       output_prefix='float_trajectories',\n",
    "                       pkl_path='/rigel/ocp/users/as4479/float_traj/picklepath_100/floatset.pkl')"
   ]
  },
  {
   "cell_type": "code",
   "execution_count": 8,
   "metadata": {},
   "outputs": [
    {
     "name": "stderr",
     "output_type": "stream",
     "text": [
      "100%|██████████| 146/146 [31:43<00:00, 13.03s/it]\n"
     ]
    }
   ],
   "source": [
    "utils.floats_to_netcdf(input_dir='/rigel/ocp/users/as4479/MITgcm/llc_agulhas/moreparticles_nonormalLAVD/100_2Dh',\n",
    "                       output_fname='float_trajectories', \n",
    "                       float_file_prefix='float_trajectories',\n",
    "                       output_dir='/rigel/ocp/users/as4479/float_traj/100_2Dh/',\n",
    "                       output_prefix='float_trajectories',\n",
    "                       pkl_path='/rigel/ocp/users/as4479/float_traj/picklepath_100/floatset.pkl')"
   ]
  },
  {
   "cell_type": "code",
   "execution_count": 9,
   "metadata": {},
   "outputs": [
    {
     "name": "stderr",
     "output_type": "stream",
     "text": [
      "100%|██████████| 139/139 [29:39<00:00, 12.80s/it]\n"
     ]
    }
   ],
   "source": [
    "utils.floats_to_netcdf(input_dir='/rigel/ocp/users/as4479/MITgcm/llc_agulhas/moreparticles_nonormalLAVD/100_3Dh',\n",
    "                       output_fname='float_trajectories', \n",
    "                       float_file_prefix='float_trajectories',\n",
    "                       output_dir='/rigel/ocp/users/as4479/float_traj/100_3Dh/',\n",
    "                       output_prefix='float_trajectories',\n",
    "                       pkl_path='/rigel/ocp/users/as4479/float_traj/picklepath_100/floatset.pkl')"
   ]
  },
  {
   "cell_type": "markdown",
   "metadata": {},
   "source": [
    "# For the tests #\n",
    "\n",
    "* $1/20^{\\circ}$ particle grid, 3 day restart \n",
    "\n",
    "* $1/50^{\\circ}$ particle grid, 3 day restart \n",
    "\n",
    "* $1/50^{\\circ}$ particle grid, 7 day restart  "
   ]
  },
  {
   "cell_type": "code",
   "execution_count": 6,
   "metadata": {},
   "outputs": [
    {
     "name": "stderr",
     "output_type": "stream",
     "text": [
      "\n",
      "  0%|          | 0/133 [00:00<?, ?it/s]\u001b[A\n",
      "  1%|          | 1/133 [00:03<07:15,  3.30s/it]\u001b[A\n",
      "  2%|▏         | 2/133 [00:06<07:13,  3.31s/it]\u001b[A\n",
      "  2%|▏         | 3/133 [00:09<07:09,  3.31s/it]Exception in thread Thread-32:\n",
      "Traceback (most recent call last):\n",
      "  File \"/rigel/ocp/users/as4479/new_miniconda/miniconda/envs/pangeo/lib/python3.6/threading.py\", line 916, in _bootstrap_inner\n",
      "    self.run()\n",
      "  File \"/rigel/ocp/users/as4479/new_miniconda/miniconda/envs/pangeo/lib/python3.6/site-packages/tqdm-4.19.5-py3.6.egg/tqdm/_tqdm.py\", line 144, in run\n",
      "    for instance in self.tqdm_cls._instances:\n",
      "  File \"/rigel/ocp/users/as4479/new_miniconda/miniconda/envs/pangeo/lib/python3.6/_weakrefset.py\", line 60, in __iter__\n",
      "    for itemref in self.data:\n",
      "RuntimeError: Set changed size during iteration\n",
      "\n",
      "100%|██████████| 133/133 [06:59<00:00,  3.15s/it]\n"
     ]
    }
   ],
   "source": [
    "utils.floats_to_netcdf(input_dir='/rigel/ocp/users/as4479/MITgcm/llc_agulhas/moreparticles_nonormalLAVD/20_2Dw_3dr/',\n",
    "                       output_fname='float_trajectories', \n",
    "                       float_file_prefix='float_trajectories',\n",
    "                       output_dir='/rigel/ocp/users/as4479/float_traj/20_2Dw_3dr/',\n",
    "                       output_prefix='float_trajectories',\n",
    "                       pkl_path='/rigel/ocp/users/as4479/float_traj/picklepath_20/floatset.pkl')"
   ]
  },
  {
   "cell_type": "code",
   "execution_count": 7,
   "metadata": {},
   "outputs": [
    {
     "name": "stderr",
     "output_type": "stream",
     "text": [
      "100%|██████████| 133/133 [13:02<00:00,  5.89s/it]\n"
     ]
    }
   ],
   "source": [
    "utils.floats_to_netcdf(input_dir='/rigel/ocp/users/as4479/MITgcm/llc_agulhas/moreparticles_nonormalLAVD/50_2Dw_3dr/',\n",
    "                       output_fname='float_trajectories', \n",
    "                       float_file_prefix='float_trajectories',\n",
    "                       output_dir='/rigel/ocp/users/as4479/float_traj/50_2Dw_3dr/',\n",
    "                       output_prefix='float_trajectories',\n",
    "                       pkl_path='/rigel/ocp/users/as4479/float_traj/picklepath_50/floatset.pkl')"
   ]
  },
  {
   "cell_type": "code",
   "execution_count": 8,
   "metadata": {},
   "outputs": [
    {
     "name": "stderr",
     "output_type": "stream",
     "text": [
      "100%|██████████| 133/133 [12:11<00:00,  5.50s/it]\n"
     ]
    }
   ],
   "source": [
    "utils.floats_to_netcdf(input_dir='/rigel/ocp/users/as4479/MITgcm/llc_agulhas/moreparticles_nonormalLAVD/50_2Dw_7dr/',\n",
    "                       output_fname='float_trajectories', \n",
    "                       float_file_prefix='float_trajectories',\n",
    "                       output_dir='/rigel/ocp/users/as4479/float_traj/50_2Dw_7dr/',\n",
    "                       output_prefix='float_trajectories',\n",
    "                       pkl_path='/rigel/ocp/users/as4479/float_traj/picklepath_50/floatset.pkl')"
   ]
  },
  {
   "cell_type": "code",
   "execution_count": null,
   "metadata": {},
   "outputs": [],
   "source": []
  }
 ],
 "metadata": {
  "kernelspec": {
   "display_name": "Python 3",
   "language": "python",
   "name": "python3"
  },
  "language_info": {
   "codemirror_mode": {
    "name": "ipython",
    "version": 3
   },
   "file_extension": ".py",
   "mimetype": "text/x-python",
   "name": "python",
   "nbconvert_exporter": "python",
   "pygments_lexer": "ipython3",
   "version": "3.6.3"
  }
 },
 "nbformat": 4,
 "nbformat_minor": 2
}
